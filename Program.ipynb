{
 "cells": [
  {
   "cell_type": "code",
   "execution_count": 10,
   "id": "0587fe7b",
   "metadata": {},
   "outputs": [],
   "source": [
    "import pandas as pd\n",
    "import numpy as np"
   ]
  },
  {
   "cell_type": "code",
   "execution_count": 11,
   "id": "ac6597db",
   "metadata": {},
   "outputs": [],
   "source": [
    "# dic={\n",
    "#     'Teachhers':['Teacher_1','Arghya'],\n",
    "#     'Bengali':[1,1],\n",
    "#     'Math':[1,1],\n",
    "#     'Science':[1,1]\n",
    "# }"
   ]
  },
  {
   "cell_type": "code",
   "execution_count": 12,
   "id": "afd4c6d6",
   "metadata": {},
   "outputs": [],
   "source": [
    "# x=pd.DataFrame(dic)"
   ]
  },
  {
   "cell_type": "code",
   "execution_count": 13,
   "id": "b2a9c31f",
   "metadata": {},
   "outputs": [],
   "source": [
    "# x.to_csv('Subjects.csv',index=False)"
   ]
  },
  {
   "cell_type": "code",
   "execution_count": 14,
   "id": "6b1ab620",
   "metadata": {},
   "outputs": [],
   "source": [
    "# sub=pd.read_csv('Subjects.csv')"
   ]
  },
  {
   "cell_type": "code",
   "execution_count": 15,
   "id": "3a81a3ab",
   "metadata": {},
   "outputs": [
    {
     "data": {
      "text/html": [
       "<div>\n",
       "<style scoped>\n",
       "    .dataframe tbody tr th:only-of-type {\n",
       "        vertical-align: middle;\n",
       "    }\n",
       "\n",
       "    .dataframe tbody tr th {\n",
       "        vertical-align: top;\n",
       "    }\n",
       "\n",
       "    .dataframe thead th {\n",
       "        text-align: right;\n",
       "    }\n",
       "</style>\n",
       "<table border=\"1\" class=\"dataframe\">\n",
       "  <thead>\n",
       "    <tr style=\"text-align: right;\">\n",
       "      <th></th>\n",
       "      <th>Teachhers</th>\n",
       "      <th>Bengali</th>\n",
       "      <th>Math</th>\n",
       "      <th>Science</th>\n",
       "    </tr>\n",
       "  </thead>\n",
       "  <tbody>\n",
       "    <tr>\n",
       "      <th>0</th>\n",
       "      <td>Teacher_1</td>\n",
       "      <td>1</td>\n",
       "      <td>1</td>\n",
       "      <td>1</td>\n",
       "    </tr>\n",
       "    <tr>\n",
       "      <th>1</th>\n",
       "      <td>Arghya</td>\n",
       "      <td>1</td>\n",
       "      <td>1</td>\n",
       "      <td>1</td>\n",
       "    </tr>\n",
       "  </tbody>\n",
       "</table>\n",
       "</div>"
      ],
      "text/plain": [
       "   Teachhers  Bengali  Math  Science\n",
       "0  Teacher_1        1     1        1\n",
       "1     Arghya        1     1        1"
      ]
     },
     "execution_count": 15,
     "metadata": {},
     "output_type": "execute_result"
    }
   ],
   "source": [
    "# sub"
   ]
  },
  {
   "cell_type": "code",
   "execution_count": 22,
   "id": "c971fd85",
   "metadata": {},
   "outputs": [
    {
     "name": "stdout",
     "output_type": "stream",
     "text": [
      "Enter Teacher name:Arghya\n",
      "Enter monday routine1a/his 2b/History 0 0 0\n"
     ]
    }
   ],
   "source": [
    "#Make Teacher routine here\n",
    "name=input(\"Enter Teacher name:\")\n",
    "Monday=input(\"Enter Monday routine:\").split()\n",
    "Tuesday=input(\"Enter Tuesday routine:\").split()\n",
    "Wednesday=input(\"Enter Wedneday routine:\").split()\n",
    "Thursday=input(\"Enter Thursday routine:\").split()\n",
    "Friday=input(\"Enter Friday routine:\").split()\n",
    "Saturday=input(\"Enter Saturday routine:\").split()\n",
    "dic={\n",
    "    'Monday':Monday,\n",
    "    'Tuesday':Tuesday,\n",
    "    'Wednesday':Wednesday,\n",
    "    'Thursday':Thursday,\n",
    "    'Friday':Friday,\n",
    "    'Saturday':Saturday\n",
    "}\n",
    "routine=pd.DataFrame(dic)\n",
    "routine.to_csv(name+'.csv',index=False)"
   ]
  },
  {
   "cell_type": "code",
   "execution_count": 52,
   "id": "6f7d72eb",
   "metadata": {},
   "outputs": [
    {
     "name": "stdout",
     "output_type": "stream",
     "text": [
      "Enter today's day:Monday\n",
      "Enter the absents here:Arghya\n",
      "Slot= 2 ::Class= 1a ::sub= History ::Alloted Teacher= Teacher_1\n",
      "Slot= 3 ::Class= 1a ::sub= History ::Alloted Teacher= Teacher_1\n",
      "Slot= 4 ::Class= 1a ::sub= History ::Alloted Teacher= Teacher_1\n"
     ]
    }
   ],
   "source": [
    "day=input(\"Enter today's day:\")\n",
    "absents=input(\"Enter the absents here:\").split(',')\n",
    "for i in absents:\n",
    "    csv=i+'.csv'\n",
    "    classes=pd.read_csv(csv)\n",
    "    subjects=classes[day]\n",
    "    slot=0\n",
    "    for j in subjects:\n",
    "        j=str(j)\n",
    "        if j != '0':\n",
    "            temp=j.split('/')\n",
    "            class_=temp[0]\n",
    "            sub=temp[1]\n",
    "            allocated_teachers=pd.read_csv('Subjects.csv')\n",
    "            count=0\n",
    "            for k in allocated_teachers[sub]:\n",
    "                k=str(k)\n",
    "                if k=='1' and allocated_teachers['Teachers'][count] not in absents:\n",
    "                    new_teacher=pd.read_csv(allocated_teachers['Teachers'][count]+'.csv')\n",
    "                    if new_teacher[day][slot]=='0':\n",
    "                        print(\"Slot=\",slot,\"::Class=\",class_,\"::sub=\",sub,\"::Alloted Teacher=\",allocated_teachers['Teachers'][count])\n",
    "                        break\n",
    "                count +=1\n",
    "            else:\n",
    "                print(\"Slot=\",slot,\"::Class=\",class_,\"::sub=\",sub,\"::Alloted Teacher=Not Possible\")\n",
    "        slot +=1\n",
    "    "
   ]
  },
  {
   "cell_type": "code",
   "execution_count": null,
   "id": "5b23a5ef",
   "metadata": {},
   "outputs": [],
   "source": []
  }
 ],
 "metadata": {
  "kernelspec": {
   "display_name": "Python 3 (ipykernel)",
   "language": "python",
   "name": "python3"
  },
  "language_info": {
   "codemirror_mode": {
    "name": "ipython",
    "version": 3
   },
   "file_extension": ".py",
   "mimetype": "text/x-python",
   "name": "python",
   "nbconvert_exporter": "python",
   "pygments_lexer": "ipython3",
   "version": "3.10.4"
  }
 },
 "nbformat": 4,
 "nbformat_minor": 5
}
